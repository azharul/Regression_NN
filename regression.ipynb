{
 "cells": [
  {
   "cell_type": "markdown",
   "metadata": {},
   "source": [
    "### This notebook contains code for regression analysis using keras. You will need to provide an input file specifying independent and dependent variables. The code will ignore any independent variable that has a correlation of greater than 90% with the dependent variable. Then, you will need to provide a test/future data file, that you want to predict on. This file must have the same independent variables as the first file."
   ]
  },
  {
   "cell_type": "markdown",
   "metadata": {},
   "source": [
    "# Importing Necessary packages"
   ]
  },
  {
   "cell_type": "code",
   "execution_count": 1,
   "metadata": {},
   "outputs": [
    {
     "name": "stderr",
     "output_type": "stream",
     "text": [
      "/anaconda2/lib/python2.7/site-packages/sklearn/cross_validation.py:41: DeprecationWarning: This module was deprecated in version 0.18 in favor of the model_selection module into which all the refactored classes and functions are moved. Also note that the interface of the new CV iterators are different from that of this module. This module will be removed in 0.20.\n",
      "  \"This module will be removed in 0.20.\", DeprecationWarning)\n",
      "Using TensorFlow backend.\n"
     ]
    }
   ],
   "source": [
    "# Numeric Python Library.\n",
    "import numpy as np\n",
    "# Python Data Analysis Library.\n",
    "import pandas as pd\n",
    "# Scikit-learn Machine Learning Python Library modules.\n",
    "#   Preprocessing utilities.\n",
    "from sklearn import preprocessing\n",
    "#   Cross-validation utilities.\n",
    "from sklearn import cross_validation\n",
    "# random forest library\n",
    "from sklearn.ensemble import RandomForestRegressor\n",
    "from sklearn import linear_model\n",
    "# Python graphical library\n",
    "import matplotlib.pyplot as plt\n",
    " \n",
    "# Keras perceptron neuron layer implementation.\n",
    "from keras.models import Sequential\n",
    "from keras.layers import Dense\n",
    "from keras.layers import Dropout\n",
    "from keras.layers import Activation"
   ]
  },
  {
   "cell_type": "markdown",
   "metadata": {},
   "source": [
    "# Class that handles reading and formatting data, and all regression models."
   ]
  },
  {
   "cell_type": "code",
   "execution_count": 5,
   "metadata": {},
   "outputs": [],
   "source": [
    "class Regression(object):\n",
    "    \"class that handles all tasks regarding Regression\"\n",
    "    def __init__(self):\n",
    "        \"\"\"constructor\"\"\"\n",
    "        self.data=pd.DataFrame()\n",
    "        self.DataX=pd.DataFrame()\n",
    "        self.DataY=pd.DataFrame()\n",
    "        self.futureX=pd.DataFrame()\n",
    "        self.futureY=pd.DataFrame()\n",
    "        self.prediction_duration=None\n",
    "        self.selectedCols=[]\n",
    "        self.maxY=None\n",
    "\n",
    "    def loadData(self, filepath,fillData=False):\n",
    "        \"\"\"reads data from excel or csv\"\"\"\n",
    "        \"\"\"filepath=complete file path of the data file,must be string\n",
    "        fillData=if true, front fill and back fill will be used to fill missing values\"\"\"\n",
    "        if filepath[-4:]=='xlsx':\n",
    "            self.data=pd.read_excel(filepath)\n",
    "        elif filepath[-3:]=='csv':\n",
    "            self.data=pd.read_csv(filepath)\n",
    "        else:\n",
    "            raise Exception(\"File format not supported\")\n",
    "        \n",
    "        if fillData==True:\n",
    "            \"\"\"method for filling up missing values\n",
    "            must be replaced with DCL\"\"\"\n",
    "            self.data=self.data.fillna(method='ffill')\n",
    "            self.data=self.data.fillna(method='bfill')\n",
    "    \n",
    "    def createData(self,xcol,ycol):\n",
    "        \"\"\"method for selecting input and output variables and creating x, y data\"\"\"\n",
    "        \"\"\"xcol=list of independent variables column, must be integer\n",
    "        ycol=dependent variable column, must be integer\n",
    "        \"\"\"\n",
    "        self.DataY=self.data.iloc[:,ycol]\n",
    "        self.maxY=self.DataY.max()\n",
    "        c=0\n",
    "        if type(xcol)==list:\n",
    "            for i in xrange(len(xcol)):\n",
    "                \"\"\"if correlation is more than 90%, ignore that column\"\"\"\n",
    "                if self.data.iloc[:,xcol[i]].corr(self.DataY) <0.9:\n",
    "                    self.DataX=pd.concat([self.DataX,self.data.iloc[:,xcol[i]]],axis=1)\n",
    "                    self.selectedCols.append(xcol[i])\n",
    "                    c +=1\n",
    "                \"\"\"if all columns have a correlation of more than 0.9, just consider the last column\"\"\"\n",
    "                if i==(len(xcol)-1) and c==0:\n",
    "                    self.DataX=pd.concat([self.DataX,self.data.iloc[:,xcol[i]]],axis=1)\n",
    "                    self.selectedCols.append(xcol(i))\n",
    "        else:\n",
    "            self.DataX=self.data.iloc[:,xcol]\n",
    "        \n",
    "        \n",
    "        # freeing up memory by deleting variable\n",
    "        del self.data\n",
    "    \n",
    "    def transformData(self,df):\n",
    "        \"\"\"function for normalizing data\"\"\"\n",
    "        return df/self.maxY\n",
    "    \n",
    "    def inverseTransform(self,df):\n",
    "        \"\"\"inverse transforming normalized data\"\"\"\n",
    "        return df*self.maxY    \n",
    "            \n",
    "    def futureData(self,filepath,futureXcol=None,fillData=False):\n",
    "        \"\"\"future xData for prediction\"\"\"\n",
    "        \"\"\"NOTE: future xData must have same format as present xData\"\"\"\n",
    "        futureData=pd.DataFrame()\n",
    "        if filepath[-4:]=='xlsx':\n",
    "            futureData=pd.read_excel(filepath)\n",
    "        elif filepath[-3:]=='csv':\n",
    "            futureData=pd.read_csv(filepath)\n",
    "        else:\n",
    "            raise Exception(\"File format not supported\")\n",
    "            \n",
    "        if fillData==True:\n",
    "            \"\"\"method for filling up missing values\n",
    "            must be replaced with DCL\"\"\"\n",
    "            futureData=futureData.fillna(method='ffill')\n",
    "            futureData=futureData.fillna(method='bfill')\n",
    "        #print(futureData.head(5))\n",
    "        for i in self.selectedCols:\n",
    "            self.futureX=pd.concat([self.futureX,futureData.iloc[:,i]],axis=1)\n",
    "        \n",
    "        #futureY only if for testing, in deployment, we won't have target variable. we have to predict it\n",
    "        self.futureY=futureData.iloc[:,17]\n",
    "        # freeing up memory by deleting variable\n",
    "        del futureData\n",
    "\n",
    "    def RegressionNN(self,nb_epoch=10,batch_size=0):\n",
    "        \"neural net based regression model\"\n",
    "        \"\"\"nb_epoch=no of iterations over the data\n",
    "        batch_size= no of data points taken per iteration\"\"\"\n",
    "        # New sequential network structure.\n",
    "        model = Sequential()\n",
    "        # Input layer with dimension 1 and hidden layer i with 256 neurons. \n",
    "        model.add(Dense(256, input_dim=len(self.DataX.columns), activation='relu'))\n",
    "        # Dropout of 25% of the neurons and activation layer.\n",
    "        model.add(Dropout(.25))\n",
    "        model.add(Activation(\"linear\"))\n",
    "        # Hidden layer j with 128 neurons plus activation layer.\n",
    "        #model.add(Dense(128, activation='relu'))\n",
    "        #model.add(Dropout(.25))\n",
    "        #model.add(Activation(\"linear\"))\n",
    "        # Hidden layer k with 128 neurons.\n",
    "        #model.add(Dense(128, activation='relu'))\n",
    "        #model.add(Dropout(.25))\n",
    "\n",
    "        # Output Layer.\n",
    "        model.add(Dense(1))\n",
    "\n",
    "        # Model is derived and compiled using mean square error as loss\n",
    "        # function, accuracy as metric and gradient descent optimizer.\n",
    "        model.compile(loss='mse', optimizer='Adagrad', metrics=[\"accuracy\"])\n",
    "        #model.summary()\n",
    "\n",
    "        \n",
    "        if batch_size == 0:\n",
    "            if len(self.DataX)>10000:\n",
    "                batch_size=100\n",
    "            elif len(self.DataX)<=10000:\n",
    "                batch_size=10\n",
    "        #fitting the model on input data\n",
    "        model.fit(self.DataX.values, self.DataY.values, nb_epoch=nb_epoch,batch_size=batch_size, verbose=0)\n",
    "        # predicting for future data\n",
    "        pred_NN=model.predict(self.futureX.values)\n",
    "        return pred_NN\n",
    "\n",
    "    def regressionRandomForest(self):\n",
    "        #building the random forest model\n",
    "        regr_rf = RandomForestRegressor(max_depth=200, random_state=0)\n",
    "        #fitting with x and y data\n",
    "        regr_rf.fit(self.DataX,self.DataY)\n",
    "        #predicting on future data\n",
    "        rf_pred=regr_rf.predict(self.futureX)\n",
    "        return rf_pred\n",
    "\n",
    "    def regressionLinear(self):\n",
    "        #building the linear model\n",
    "        regr_linear = linear_model.LinearRegression()\n",
    "        #fitting with x and y data\n",
    "        regr_linear.fit(self.DataX,self.DataY)\n",
    "        #predicting on future data\n",
    "        linear_pred=regr_linear.predict(self.futureX)\n",
    "        return linear_pred\n"
   ]
  },
  {
   "cell_type": "markdown",
   "metadata": {},
   "source": [
    "# Sample code to test the class and how to implement it"
   ]
  },
  {
   "cell_type": "code",
   "execution_count": 7,
   "metadata": {},
   "outputs": [],
   "source": [
    "df=Regression()\n",
    "df.loadData('Matchams15.csv',fillData=True)\n",
    "df.createData(xcol=range(10,17,1),ycol=17)\n"
   ]
  },
  {
   "cell_type": "code",
   "execution_count": 8,
   "metadata": {
    "collapsed": true
   },
   "outputs": [],
   "source": [
    "df.futureData('Matchams15Test.xlsx',fillData=True)\n"
   ]
  },
  {
   "cell_type": "code",
   "execution_count": 17,
   "metadata": {},
   "outputs": [
    {
     "data": {
      "text/html": [
       "<div>\n",
       "<style>\n",
       "    .dataframe thead tr:only-child th {\n",
       "        text-align: right;\n",
       "    }\n",
       "\n",
       "    .dataframe thead th {\n",
       "        text-align: left;\n",
       "    }\n",
       "\n",
       "    .dataframe tbody tr th {\n",
       "        vertical-align: top;\n",
       "    }\n",
       "</style>\n",
       "<table border=\"1\" class=\"dataframe\">\n",
       "  <thead>\n",
       "    <tr style=\"text-align: right;\">\n",
       "      <th></th>\n",
       "      <th>Kw/ML</th>\n",
       "      <th>tariff</th>\n",
       "    </tr>\n",
       "  </thead>\n",
       "  <tbody>\n",
       "    <tr>\n",
       "      <th>0</th>\n",
       "      <td>146.881762</td>\n",
       "      <td>0.07365</td>\n",
       "    </tr>\n",
       "    <tr>\n",
       "      <th>1</th>\n",
       "      <td>147.748371</td>\n",
       "      <td>0.07365</td>\n",
       "    </tr>\n",
       "    <tr>\n",
       "      <th>2</th>\n",
       "      <td>148.104612</td>\n",
       "      <td>0.07365</td>\n",
       "    </tr>\n",
       "    <tr>\n",
       "      <th>3</th>\n",
       "      <td>148.386900</td>\n",
       "      <td>0.07365</td>\n",
       "    </tr>\n",
       "    <tr>\n",
       "      <th>4</th>\n",
       "      <td>148.346662</td>\n",
       "      <td>0.07365</td>\n",
       "    </tr>\n",
       "  </tbody>\n",
       "</table>\n",
       "</div>"
      ],
      "text/plain": [
       "        Kw/ML   tariff\n",
       "0  146.881762  0.07365\n",
       "1  147.748371  0.07365\n",
       "2  148.104612  0.07365\n",
       "3  148.386900  0.07365\n",
       "4  148.346662  0.07365"
      ]
     },
     "execution_count": 17,
     "metadata": {},
     "output_type": "execute_result"
    }
   ],
   "source": [
    "df.DataX.head()"
   ]
  },
  {
   "cell_type": "code",
   "execution_count": 18,
   "metadata": {},
   "outputs": [
    {
     "data": {
      "text/plain": [
       "0.86991457781939741"
      ]
     },
     "execution_count": 18,
     "metadata": {},
     "output_type": "execute_result"
    }
   ],
   "source": [
    "df.DataX['Kw/ML'].corr(df.DataY)"
   ]
  },
  {
   "cell_type": "code",
   "execution_count": 19,
   "metadata": {
    "collapsed": true
   },
   "outputs": [],
   "source": [
    "#predNN=df.RegressionNN(nb_epoch=10,batch_size=100)\n",
    "predrf=df.regressionRandomForest()\n",
    "predL=df.regressionLinear()\n"
   ]
  },
  {
   "cell_type": "code",
   "execution_count": 21,
   "metadata": {},
   "outputs": [
    {
     "name": "stdout",
     "output_type": "stream",
     "text": [
      "0.992863995792\n",
      "0.432548376263\n"
     ]
    }
   ],
   "source": [
    "from sklearn.metrics import r2_score\n",
    "#r2_score(predNN,df.futureY)\n",
    "print(r2_score(predrf,df.futureY))\n",
    "print(r2_score(predL,df.futureY))"
   ]
  },
  {
   "cell_type": "code",
   "execution_count": null,
   "metadata": {
    "collapsed": true
   },
   "outputs": [],
   "source": []
  }
 ],
 "metadata": {
  "kernelspec": {
   "display_name": "Python 2",
   "language": "python",
   "name": "python2"
  },
  "language_info": {
   "codemirror_mode": {
    "name": "ipython",
    "version": 2
   },
   "file_extension": ".py",
   "mimetype": "text/x-python",
   "name": "python",
   "nbconvert_exporter": "python",
   "pygments_lexer": "ipython2",
   "version": "2.7.14"
  }
 },
 "nbformat": 4,
 "nbformat_minor": 2
}
